{
 "cells": [
  {
   "cell_type": "code",
   "execution_count": 1,
   "id": "7eae9913-479d-4e50-8019-a960ac39f20f",
   "metadata": {},
   "outputs": [],
   "source": [
    "import os\n",
    "from selenium import webdriver\n",
    "from selenium.webdriver.common.by import By"
   ]
  },
  {
   "cell_type": "code",
   "execution_count": 3,
   "id": "3ecc2f6a-a52d-42e8-8a8f-39ac1870f476",
   "metadata": {},
   "outputs": [],
   "source": [
    "chrome_options = webdriver.ChromeOptions()\n",
    "driver = webdriver.Remote(\n",
    "    command_executor='http://chrome:4444/wd/hub',\n",
    "    options=chrome_options\n",
    ")"
   ]
  },
  {
   "cell_type": "code",
   "execution_count": 5,
   "id": "3c15f51b-023b-46b6-b555-7f791ed4a498",
   "metadata": {},
   "outputs": [
    {
     "name": "stdout",
     "output_type": "stream",
     "text": [
      "Very simple web pages have a structure illustrated by this page. And elements can have id and class attributes for styling and locating\n"
     ]
    }
   ],
   "source": [
    "driver.get(\"https://testpages.herokuapp.com/styled/basic-web-page-test.html\")\n",
    "driver.implicitly_wait(8)\n",
    "my_element = driver.find_element(By.CLASS_NAME, 'explanation')\n",
    "print(my_element.text)"
   ]
  }
 ],
 "metadata": {
  "kernelspec": {
   "display_name": "Python 3 (ipykernel)",
   "language": "python",
   "name": "python3"
  },
  "language_info": {
   "codemirror_mode": {
    "name": "ipython",
    "version": 3
   },
   "file_extension": ".py",
   "mimetype": "text/x-python",
   "name": "python",
   "nbconvert_exporter": "python",
   "pygments_lexer": "ipython3",
   "version": "3.10.10"
  }
 },
 "nbformat": 4,
 "nbformat_minor": 5
}
