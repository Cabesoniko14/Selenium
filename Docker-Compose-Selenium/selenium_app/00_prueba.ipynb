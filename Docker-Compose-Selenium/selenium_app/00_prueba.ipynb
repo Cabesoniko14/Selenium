{
 "cells": [
  {
   "cell_type": "code",
   "execution_count": 2,
   "metadata": {},
   "outputs": [
    {
     "name": "stdout",
     "output_type": "stream",
     "text": [
      "1 Biografía\n"
     ]
    }
   ],
   "source": [
    "from selenium import webdriver\n",
    "from selenium.webdriver.common.by import By\n",
    "import time\n",
    "\n",
    "\n",
    "# Set the path to the chromedriver executable\n",
    "#chromedriver_path = '/path/to/chromedriver'\n",
    "\n",
    "# Create a Chrome webdriver instance\n",
    "#driver = webdriver.Chrome(chromedriver_path)\n",
    "chrome_options = webdriver.ChromeOptions()\n",
    "driver = webdriver.Remote(\n",
    "    command_executor='http://chrome:4444/wd/hub',\n",
    "    options=chrome_options\n",
    ")\n",
    "\n",
    "driver.get(\"https://es.wikipedia.org/wiki/Bob_Ross\")\n",
    " \n",
    "# get element\n",
    "element = driver.find_element(By.XPATH, \"//*[@id='toc']/ul/li[1]/a\")\n",
    "print(element.text)\n",
    "\n",
    "time.sleep(5)\n",
    "\n",
    "element.click()\n",
    "\n",
    "time.sleep(5)\n",
    "\n",
    "driver.quit()\n"
   ]
  }
 ],
 "metadata": {
  "kernelspec": {
   "display_name": "Python 3 (ipykernel)",
   "language": "python",
   "name": "python3"
  },
  "language_info": {
   "codemirror_mode": {
    "name": "ipython",
    "version": 3
   },
   "file_extension": ".py",
   "mimetype": "text/x-python",
   "name": "python",
   "nbconvert_exporter": "python",
   "pygments_lexer": "ipython3",
   "version": "3.10.10"
  }
 },
 "nbformat": 4,
 "nbformat_minor": 4
}
