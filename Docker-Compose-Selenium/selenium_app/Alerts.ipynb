{
 "cells": [
  {
   "cell_type": "code",
   "execution_count": 1,
   "id": "27eac66a-532f-4485-917b-8508e3048f8c",
   "metadata": {},
   "outputs": [],
   "source": [
    "from selenium import webdriver\n",
    "from selenium.webdriver.common.by import By\n",
    "from selenium.webdriver.common.alert import Alert"
   ]
  },
  {
   "cell_type": "code",
   "execution_count": 2,
   "id": "fc921bd7-a870-4aff-990a-d99934da1d27",
   "metadata": {},
   "outputs": [],
   "source": [
    "chrome_options = webdriver.ChromeOptions()\n",
    "driver = webdriver.Remote(\n",
    "    command_executor='http://chrome:4444/wd/hub',\n",
    "    options=chrome_options\n",
    ")"
   ]
  },
  {
   "cell_type": "code",
   "execution_count": 3,
   "id": "e59d7e98-f414-4f13-a6ae-80f57dac9c3c",
   "metadata": {},
   "outputs": [],
   "source": [
    "driver.get(\"https://testpages.herokuapp.com/alerts.html\")\n",
    "driver.implicitly_wait(10)"
   ]
  },
  {
   "cell_type": "code",
   "execution_count": 4,
   "id": "db146117-95b9-4b3a-9630-4743f0779428",
   "metadata": {},
   "outputs": [],
   "source": [
    "alert_box = driver.find_element(By.ID, 'alertexamples')"
   ]
  },
  {
   "cell_type": "code",
   "execution_count": 5,
   "id": "64cac744-67a4-492c-ad81-022ecea0f8f9",
   "metadata": {},
   "outputs": [
    {
     "data": {
      "text/plain": [
       "'Show alert box'"
      ]
     },
     "execution_count": 5,
     "metadata": {},
     "output_type": "execute_result"
    }
   ],
   "source": [
    "alert_box.get_attribute('value')"
   ]
  },
  {
   "cell_type": "code",
   "execution_count": 6,
   "id": "7bf254ff-9c9d-4179-86a0-4c727a2b95d3",
   "metadata": {},
   "outputs": [],
   "source": [
    "alert_box.click()"
   ]
  },
  {
   "cell_type": "code",
   "execution_count": 7,
   "id": "9bf3e41c-df51-45b7-b2de-6c7cfdb82f70",
   "metadata": {},
   "outputs": [],
   "source": [
    "alertBox = Alert(driver)"
   ]
  },
  {
   "cell_type": "code",
   "execution_count": 8,
   "id": "7077d4ff-6b15-49dc-a8a3-78fcc5e6e156",
   "metadata": {},
   "outputs": [
    {
     "data": {
      "text/plain": [
       "'I am an alert box!'"
      ]
     },
     "execution_count": 8,
     "metadata": {},
     "output_type": "execute_result"
    }
   ],
   "source": [
    "alertBox.text"
   ]
  },
  {
   "cell_type": "code",
   "execution_count": 9,
   "id": "3fddf2d9-c67b-4549-b668-94d5fbd8783f",
   "metadata": {},
   "outputs": [],
   "source": [
    "alertBox.accept()"
   ]
  },
  {
   "cell_type": "code",
   "execution_count": 10,
   "id": "df78c5ce-2fef-425c-8a28-77d1884e12c7",
   "metadata": {},
   "outputs": [],
   "source": [
    "confirm_box = driver.find_element(By.ID, 'confirmexample')"
   ]
  },
  {
   "cell_type": "code",
   "execution_count": 11,
   "id": "37c58fff-c675-4e0e-93c6-d923362c37c5",
   "metadata": {},
   "outputs": [
    {
     "data": {
      "text/plain": [
       "'Show confirm box'"
      ]
     },
     "execution_count": 11,
     "metadata": {},
     "output_type": "execute_result"
    }
   ],
   "source": [
    "confirm_box.get_attribute('value')"
   ]
  },
  {
   "cell_type": "code",
   "execution_count": 12,
   "id": "3f469b29-e558-423f-9e59-096a023ff8f5",
   "metadata": {},
   "outputs": [],
   "source": [
    "confirm_box.click()"
   ]
  },
  {
   "cell_type": "code",
   "execution_count": 13,
   "id": "c484da56-9b12-49b2-a588-5a4d10ee10f6",
   "metadata": {},
   "outputs": [],
   "source": [
    "confirmBox = Alert(driver)"
   ]
  },
  {
   "cell_type": "code",
   "execution_count": 14,
   "id": "760cd5e3-87f9-4df4-9d49-7c013afad124",
   "metadata": {},
   "outputs": [
    {
     "data": {
      "text/plain": [
       "'I am a confirm alert'"
      ]
     },
     "execution_count": 14,
     "metadata": {},
     "output_type": "execute_result"
    }
   ],
   "source": [
    "alertBox.text"
   ]
  },
  {
   "cell_type": "code",
   "execution_count": 15,
   "id": "bd64f279-a3fc-4511-8983-f3737d0c0316",
   "metadata": {},
   "outputs": [],
   "source": [
    "#confirmBox.dismiss()\n",
    "confirmBox.accept()"
   ]
  },
  {
   "cell_type": "code",
   "execution_count": 16,
   "id": "89a7736b-0ba2-49e2-9c3a-db7e2729ab78",
   "metadata": {},
   "outputs": [],
   "source": [
    "confirmation = driver.find_element(By.ID, 'confirmreturn')"
   ]
  },
  {
   "cell_type": "code",
   "execution_count": 17,
   "id": "2ef61db1-b95a-49d2-bcb1-72581c0f9e10",
   "metadata": {},
   "outputs": [
    {
     "data": {
      "text/plain": [
       "'true'"
      ]
     },
     "execution_count": 17,
     "metadata": {},
     "output_type": "execute_result"
    }
   ],
   "source": [
    "confirmation.text"
   ]
  },
  {
   "cell_type": "code",
   "execution_count": 18,
   "id": "a4f95a6f-6ba2-45a8-b89a-503c93443af1",
   "metadata": {},
   "outputs": [],
   "source": [
    "prompt_box = driver.find_element(By.ID, 'promptexample')"
   ]
  },
  {
   "cell_type": "code",
   "execution_count": 19,
   "id": "c78d4963-6b83-4703-96e5-789d7be811ad",
   "metadata": {},
   "outputs": [
    {
     "data": {
      "text/plain": [
       "'Show prompt box'"
      ]
     },
     "execution_count": 19,
     "metadata": {},
     "output_type": "execute_result"
    }
   ],
   "source": [
    "prompt_box.get_attribute('value')"
   ]
  },
  {
   "cell_type": "code",
   "execution_count": 20,
   "id": "8098733f-31d8-4073-a3b5-9dc5695225c6",
   "metadata": {},
   "outputs": [],
   "source": [
    "prompt_box.click()"
   ]
  },
  {
   "cell_type": "code",
   "execution_count": 21,
   "id": "227bdd14-06ee-4a9d-ad3c-b1e0f462aadb",
   "metadata": {},
   "outputs": [],
   "source": [
    "promptBox = Alert(driver)"
   ]
  },
  {
   "cell_type": "code",
   "execution_count": 22,
   "id": "257fb71e-c569-4aa3-b967-fad788a6392c",
   "metadata": {},
   "outputs": [
    {
     "data": {
      "text/plain": [
       "'I prompt you'"
      ]
     },
     "execution_count": 22,
     "metadata": {},
     "output_type": "execute_result"
    }
   ],
   "source": [
    "promptBox.text"
   ]
  },
  {
   "cell_type": "code",
   "execution_count": 23,
   "id": "882eccdc-e9d4-4480-a4f0-f4fb9df5f94b",
   "metadata": {},
   "outputs": [],
   "source": [
    "promptBox.send_keys(\"Fuentes de Datos\")"
   ]
  },
  {
   "cell_type": "code",
   "execution_count": 24,
   "id": "6218df99-a7fd-412a-8a6f-f3d39682e1f6",
   "metadata": {},
   "outputs": [],
   "source": [
    "promptBox.accept()"
   ]
  },
  {
   "cell_type": "code",
   "execution_count": 25,
   "id": "fd62f34d-4473-4e9e-9978-cccddfb8b0bc",
   "metadata": {},
   "outputs": [],
   "source": [
    "prompt_return = driver.find_element(By.ID, 'promptreturn')"
   ]
  },
  {
   "cell_type": "code",
   "execution_count": 26,
   "id": "367c9d9f-a038-4340-8297-5cf1e5a85c3c",
   "metadata": {},
   "outputs": [
    {
     "data": {
      "text/plain": [
       "'Fuentes de Datos'"
      ]
     },
     "execution_count": 26,
     "metadata": {},
     "output_type": "execute_result"
    }
   ],
   "source": [
    "prompt_return.text"
   ]
  },
  {
   "cell_type": "code",
   "execution_count": 27,
   "id": "e2c73cf4-c037-4110-8edc-18a0d6d5e4e9",
   "metadata": {},
   "outputs": [],
   "source": [
    "driver.quit()"
   ]
  }
 ],
 "metadata": {
  "kernelspec": {
   "display_name": "Python 3 (ipykernel)",
   "language": "python",
   "name": "python3"
  },
  "language_info": {
   "codemirror_mode": {
    "name": "ipython",
    "version": 3
   },
   "file_extension": ".py",
   "mimetype": "text/x-python",
   "name": "python",
   "nbconvert_exporter": "python",
   "pygments_lexer": "ipython3",
   "version": "3.10.9"
  }
 },
 "nbformat": 4,
 "nbformat_minor": 5
}
