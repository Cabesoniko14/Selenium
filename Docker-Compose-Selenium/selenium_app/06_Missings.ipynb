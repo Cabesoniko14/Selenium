{
 "cells": [
  {
   "cell_type": "markdown",
   "metadata": {},
   "source": [
    "# **Missings**"
   ]
  },
  {
   "cell_type": "markdown",
   "metadata": {},
   "source": [
    "## **1. Import de librerías**"
   ]
  },
  {
   "cell_type": "code",
   "execution_count": 1,
   "metadata": {},
   "outputs": [],
   "source": [
    "from selenium import webdriver\n",
    "from selenium.common.exceptions import NoSuchElementException, TimeoutException\n",
    "from selenium.webdriver.support.ui import WebDriverWait\n",
    "from selenium.webdriver.support import expected_conditions as EC\n",
    "from selenium.webdriver.common.by import By\n",
    "import time"
   ]
  },
  {
   "cell_type": "markdown",
   "metadata": {},
   "source": [
    "## **2. Manejar valores vacíos**"
   ]
  },
  {
   "cell_type": "code",
   "execution_count": 2,
   "metadata": {},
   "outputs": [],
   "source": [
    "chrome_options = webdriver.ChromeOptions()\n",
    "driver = webdriver.Remote(\n",
    "    command_executor='http://chrome:4444/wd/hub',\n",
    "    options=chrome_options\n",
    ")"
   ]
  },
  {
   "cell_type": "code",
   "execution_count": 3,
   "metadata": {},
   "outputs": [
    {
     "name": "stdout",
     "output_type": "stream",
     "text": [
      "Se encontró exitosamente.\n",
      "Tiempo de espera excedido.\n",
      "Tiempo de espera excedido.\n",
      "Tiempo de espera excedido.\n",
      "Tiempo de espera excedido.\n",
      "Tiempo de espera excedido.\n",
      "Tiempo de espera excedido.\n",
      "Se encontró exitosamente.\n",
      "\n",
      "Se encontraron 2 cabeceras de un total de 8 páginas.\n"
     ]
    }
   ],
   "source": [
    "paginas = [\"https://es.wikipedia.org/wiki/Bob_Ross\", \"https://es.wikipedia.org/wiki/Sam_Kerr\",\"https://es.wikipedia.org/wiki/Lionel_Messi\", \"https://es.wikipedia.org/wiki/Adele\",\"https://es.wikipedia.org/wiki/Damian_Lillard\", \"https://es.wikipedia.org/wiki/Lionel_Richie\", \"https://es.wikipedia.org/wiki/Nicolas_Cage\", \"https://es.wikipedia.org/wiki/Greta_Gerwig\"]\n",
    "\n",
    "nombres = []\n",
    "\n",
    "for page in paginas:\n",
    "    driver.refresh() # Eliminar link\n",
    "    driver.get(page) # Abrir el link\n",
    "    \n",
    "    try:\n",
    "        cabecera = WebDriverWait(driver, 10).until( # Esperar 10 segundos\n",
    "            EC.presence_of_element_located((By.XPATH, \"/html/body/div[3]/div[3]/div[5]/div[1]/table[1]/tbody/tr[1]/th\"))\n",
    "        )\n",
    "        \n",
    "        time.sleep(2) # Para que sea visual el ejemplo\n",
    "        nombres.append(cabecera.text)\n",
    "        print(\"Se encontró exitosamente.\")\n",
    "        \n",
    "    except NoSuchElementException:\n",
    "        print(\"No se encontró el elemento.\")\n",
    "        nombres.append(None)\n",
    "    except TimeoutException:\n",
    "        print(\"Tiempo de espera excedido.\")\n",
    "        nombres.append(None)\n",
    "    \n",
    "count = 0\n",
    "for i in nombres:\n",
    "    if i is None:\n",
    "        count += 1\n",
    "        \n",
    "print(\"\\nSe encontraron \" + str(len(nombres) - count)+ \" cabeceras de un total de \" + str(len(nombres)) + \" páginas.\")\n",
    "        \n",
    "    \n"
   ]
  },
  {
   "cell_type": "markdown",
   "metadata": {},
   "source": [
    "Importancia de seleccionar bien tus XPATH"
   ]
  },
  {
   "cell_type": "code",
   "execution_count": 4,
   "metadata": {},
   "outputs": [
    {
     "name": "stdout",
     "output_type": "stream",
     "text": [
      "Se encontró exitosamente.\n",
      "Se encontró exitosamente.\n",
      "Se encontró exitosamente.\n",
      "Se encontró exitosamente.\n",
      "Se encontró exitosamente.\n",
      "Se encontró exitosamente.\n",
      "Se encontró exitosamente.\n",
      "Se encontró exitosamente.\n",
      "\n",
      "Se encontraron 8 cabeceras de un total de 8 páginas.\n"
     ]
    }
   ],
   "source": [
    "\n",
    "nombres_2 = []\n",
    "\n",
    "for page in paginas:\n",
    "    driver.refresh() # Eliminar link\n",
    "    driver.get(page) # Abrir el link\n",
    "    \n",
    "    try:\n",
    "        cabecera = WebDriverWait(driver, 10).until( # Esperar 10 segundos\n",
    "            EC.presence_of_element_located((By.XPATH, \"//*[@class='cabecera persona']\"))\n",
    "        )\n",
    "        \n",
    "        time.sleep(2) # Para que sea visual el ejemplo\n",
    "        nombres_2.append(cabecera.text)\n",
    "        print(\"Se encontró exitosamente.\")\n",
    "        \n",
    "    except NoSuchElementException:\n",
    "        print(\"No se encontró el elemento.\")\n",
    "        nombres.append(None)\n",
    "    except TimeoutException:\n",
    "        print(\"Tiempo de espera excedido.\")\n",
    "        nombres.append(None)\n",
    "    \n",
    "    \n",
    "count = 0\n",
    "for i in nombres_2:\n",
    "    if i is None:\n",
    "        count += 1\n",
    "        \n",
    "print(\"\\nSe encontraron \" + str(len(nombres_2) - count)+ \" cabeceras de un total de \" + str(len(nombres_2)) + \" páginas.\")\n"
   ]
  },
  {
   "cell_type": "code",
   "execution_count": 5,
   "metadata": {},
   "outputs": [],
   "source": [
    "driver.quit()"
   ]
  }
 ],
 "metadata": {
  "kernelspec": {
   "display_name": "Python 3 (ipykernel)",
   "language": "python",
   "name": "python3"
  },
  "language_info": {
   "codemirror_mode": {
    "name": "ipython",
    "version": 3
   },
   "file_extension": ".py",
   "mimetype": "text/x-python",
   "name": "python",
   "nbconvert_exporter": "python",
   "pygments_lexer": "ipython3",
   "version": "3.10.10"
  }
 },
 "nbformat": 4,
 "nbformat_minor": 4
}
