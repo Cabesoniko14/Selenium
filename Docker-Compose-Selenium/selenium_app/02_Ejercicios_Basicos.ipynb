{
 "cells": [
  {
   "cell_type": "markdown",
   "metadata": {},
   "source": [
    "# **Ejercicios básicos de Selenium**"
   ]
  },
  {
   "cell_type": "markdown",
   "metadata": {},
   "source": [
    "## **1. Import de las librerías y crear driver**"
   ]
  },
  {
   "cell_type": "code",
   "execution_count": 1,
   "metadata": {},
   "outputs": [],
   "source": [
    "from selenium import webdriver\n",
    "from selenium.webdriver.common.by import By\n",
    "import time"
   ]
  },
  {
   "cell_type": "markdown",
   "metadata": {},
   "source": [
    "Crear driver"
   ]
  },
  {
   "cell_type": "code",
   "execution_count": 2,
   "metadata": {},
   "outputs": [],
   "source": [
    "chrome_options = webdriver.ChromeOptions()\n",
    "driver = webdriver.Remote(\n",
    "    command_executor='http://chrome:4444/wd/hub',\n",
    "    options=chrome_options\n",
    ")"
   ]
  },
  {
   "cell_type": "markdown",
   "metadata": {},
   "source": [
    "## **2. Funciones básicas de Selenium**"
   ]
  },
  {
   "cell_type": "markdown",
   "metadata": {},
   "source": [
    "### **get()**"
   ]
  },
  {
   "cell_type": "markdown",
   "metadata": {},
   "source": [
    "> Abre una página en el driver activo"
   ]
  },
  {
   "cell_type": "code",
   "execution_count": 3,
   "metadata": {},
   "outputs": [],
   "source": [
    "driver.get(\"https://testpages.herokuapp.com/styled/index.html\")"
   ]
  },
  {
   "cell_type": "markdown",
   "metadata": {},
   "source": [
    "### **find_element()**"
   ]
  },
  {
   "cell_type": "markdown",
   "metadata": {},
   "source": [
    "> Encuentra el primer elemento de acuerdo al parámetro de búsqueda"
   ]
  },
  {
   "cell_type": "code",
   "execution_count": 4,
   "metadata": {},
   "outputs": [],
   "source": [
    "# Definir el elemento encontrado\n",
    "\n",
    "basic_page = driver.find_element(By.XPATH, \"//*[@id='basicpagetest']\") # Usando XPATH relativo\n",
    "\n",
    "time.sleep(5) # Forma sencilla de esperar instrucciones"
   ]
  },
  {
   "cell_type": "markdown",
   "metadata": {},
   "source": [
    "### **click()**"
   ]
  },
  {
   "cell_type": "markdown",
   "metadata": {},
   "source": [
    "> Permite hacer click a algún elemento encontrado (en caso de que sea aplicable)"
   ]
  },
  {
   "cell_type": "code",
   "execution_count": 5,
   "metadata": {},
   "outputs": [],
   "source": [
    "# Hacer click en el botón para cambiar de página\n",
    "\n",
    "basic_page.click()\n",
    "\n",
    "time.sleep(5)\n"
   ]
  },
  {
   "cell_type": "markdown",
   "metadata": {},
   "source": [
    "Ya con esto podemos hacer muchas extracciones."
   ]
  },
  {
   "cell_type": "code",
   "execution_count": 6,
   "metadata": {},
   "outputs": [],
   "source": [
    "# Encontrar el párrafo por posición en el árbol\n",
    "\n",
    "parrafo_pos = driver.find_element(By.XPATH, \"/html/body/div/div[3]/p[1]\") # Usando XPATH completo\n",
    "\n",
    "time.sleep(5) # Forma sencilla de esperar instrucciones\n",
    "\n",
    "# Encontrar párrafo por su texto\n",
    "\n",
    "parrafo_text = driver.find_element(By.XPATH, \"/html/body/div/div[3]/p[text()='Another paragraph of text']\") # Usando XPATH completo\n",
    "\n",
    "time.sleep(5) # Forma sencilla de esperar instrucciones"
   ]
  },
  {
   "cell_type": "markdown",
   "metadata": {},
   "source": [
    "### **text**"
   ]
  },
  {
   "cell_type": "markdown",
   "metadata": {},
   "source": [
    "> Regresa el texto que contiene un elemento"
   ]
  },
  {
   "cell_type": "code",
   "execution_count": 7,
   "metadata": {},
   "outputs": [
    {
     "name": "stdout",
     "output_type": "stream",
     "text": [
      "A paragraph of text\n",
      "\n",
      "Tipo de dato: <class 'str'>\n",
      "\n",
      "Another paragraph of text\n"
     ]
    }
   ],
   "source": [
    "# Regresar el texto de la primera búsqueda\n",
    "\n",
    "print(parrafo_pos.text)\n",
    "print(\"\\nTipo de dato: \" + str(type(parrafo_pos.text)))\n",
    "\n",
    "# Regresar el texto de la primera búsqueda\n",
    "\n",
    "print(\"\\n\" + parrafo_text.text)\n"
   ]
  },
  {
   "cell_type": "markdown",
   "metadata": {},
   "source": [
    "### **find_elements()**"
   ]
  },
  {
   "cell_type": "markdown",
   "metadata": {},
   "source": [
    "> Encuentra todos los elementos que matcheen la búsqueda"
   ]
  },
  {
   "cell_type": "code",
   "execution_count": 8,
   "metadata": {},
   "outputs": [
    {
     "name": "stdout",
     "output_type": "stream",
     "text": [
      "A paragraph of text\n",
      "Another paragraph of text\n"
     ]
    }
   ],
   "source": [
    "# Buscar todos los párrafos del div \"centered\"\n",
    "\n",
    "# Encontrar la posición de los párrafos\n",
    "\n",
    "parrafos = driver.find_elements(By.XPATH, \"/html/body/div/div[@class = 'centered']/p\") # Usando XPATH completo\n",
    "\n",
    "time.sleep(5) # Forma sencilla de esperar instrucciones\n",
    "\n",
    "# Imprimir todos los párrafos\n",
    "\n",
    "for i in parrafos:\n",
    "    print(i.text)\n"
   ]
  },
  {
   "cell_type": "markdown",
   "metadata": {},
   "source": [
    "### **send_keys()**"
   ]
  },
  {
   "cell_type": "markdown",
   "metadata": {},
   "source": [
    "> Permite modificar un input"
   ]
  },
  {
   "cell_type": "code",
   "execution_count": 9,
   "metadata": {},
   "outputs": [],
   "source": [
    "# Nos regresamos a la página principal\n",
    "\n",
    "regresar = driver.find_element(By.XPATH, \"/html/body/div/div[1]/a\") # Usando XPATH completo\n",
    "\n",
    "time.sleep(3) # Forma sencilla de esperar instrucciones\n",
    "\n",
    "regresar.click()\n"
   ]
  },
  {
   "cell_type": "code",
   "execution_count": 10,
   "metadata": {},
   "outputs": [],
   "source": [
    "# Encontrar nueva página de forms y entrar\n",
    "\n",
    "pagina_forms = driver.find_element(By.XPATH, \"/html/body/div/ul[1]/li[7]/ul/li[1]/a\") # Usando XPATH completo\n",
    "\n",
    "time.sleep(2)\n",
    "\n",
    "pagina_forms.click()"
   ]
  },
  {
   "cell_type": "markdown",
   "metadata": {},
   "source": [
    "Usar la función send_keys()"
   ]
  },
  {
   "cell_type": "code",
   "execution_count": 11,
   "metadata": {},
   "outputs": [],
   "source": [
    "# Encontrar el input de usuario\n",
    "\n",
    "input_user = driver.find_element(By.XPATH, \"/html/body/div/div[3]/form/table/tbody/tr[1]/td/input\")\n",
    "\n",
    "time.sleep(7)\n",
    "\n",
    "input_user.send_keys(\"Cabesoniko14\")\n"
   ]
  },
  {
   "cell_type": "markdown",
   "metadata": {},
   "source": [
    "### **clear()**"
   ]
  },
  {
   "cell_type": "markdown",
   "metadata": {},
   "source": [
    "> Permite borrar entradas de texto"
   ]
  },
  {
   "cell_type": "code",
   "execution_count": 12,
   "metadata": {},
   "outputs": [],
   "source": [
    "# Borramos el input de nuestro usuario\n",
    "\n",
    "input_user.clear()"
   ]
  },
  {
   "cell_type": "markdown",
   "metadata": {},
   "source": [
    "### **quit()**"
   ]
  },
  {
   "cell_type": "markdown",
   "metadata": {},
   "source": [
    "> Cierra el driver"
   ]
  },
  {
   "cell_type": "code",
   "execution_count": 13,
   "metadata": {},
   "outputs": [],
   "source": [
    "# Cerrar\n",
    "\n",
    "driver.quit()"
   ]
  }
 ],
 "metadata": {
  "kernelspec": {
   "display_name": "Python 3 (ipykernel)",
   "language": "python",
   "name": "python3"
  },
  "language_info": {
   "codemirror_mode": {
    "name": "ipython",
    "version": 3
   },
   "file_extension": ".py",
   "mimetype": "text/x-python",
   "name": "python",
   "nbconvert_exporter": "python",
   "pygments_lexer": "ipython3",
   "version": "3.10.10"
  }
 },
 "nbformat": 4,
 "nbformat_minor": 4
}
