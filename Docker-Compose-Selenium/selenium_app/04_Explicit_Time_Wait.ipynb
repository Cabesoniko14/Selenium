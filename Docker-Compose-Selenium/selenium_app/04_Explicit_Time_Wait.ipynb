{
 "cells": [
  {
   "cell_type": "markdown",
   "metadata": {},
   "source": [
    "# **Explicit Time Wait**"
   ]
  },
  {
   "cell_type": "markdown",
   "metadata": {},
   "source": [
    "## **1. Import de librerías**"
   ]
  },
  {
   "cell_type": "code",
   "execution_count": 1,
   "metadata": {},
   "outputs": [],
   "source": [
    "from selenium import webdriver\n",
    "from selenium.webdriver.common.by import By\n",
    "from selenium.webdriver.support.ui import WebDriverWait\n",
    "from selenium.webdriver.support import expected_conditions as EC\n",
    "from selenium.common.exceptions import TimeoutException"
   ]
  },
  {
   "cell_type": "markdown",
   "metadata": {},
   "source": [
    "## **2. Varias instrucciones de Explicit Time Wait**"
   ]
  },
  {
   "cell_type": "code",
   "execution_count": 2,
   "metadata": {},
   "outputs": [],
   "source": [
    "chrome_options = webdriver.ChromeOptions()\n",
    "driver = webdriver.Remote(\n",
    "    command_executor='http://chrome:4444/wd/hub',\n",
    "    options=chrome_options\n",
    ")"
   ]
  },
  {
   "cell_type": "code",
   "execution_count": 3,
   "metadata": {},
   "outputs": [],
   "source": [
    "# Abrimos la página\n",
    "\n",
    "driver.get(\"https://testpages.herokuapp.com/styled/index.html\")"
   ]
  },
  {
   "cell_type": "markdown",
   "metadata": {},
   "source": [
    "### **Esperar a que un elemento sea encontrado**"
   ]
  },
  {
   "cell_type": "code",
   "execution_count": 4,
   "metadata": {},
   "outputs": [],
   "source": [
    "# Ir a la página de la tabla de\n",
    "\n",
    "nueva_pag = driver.find_element(By.XPATH, \"//*[@id='tablestest']\") # Usando XPATH relativo\n",
    "\n",
    "nueva_pag.click()"
   ]
  },
  {
   "cell_type": "code",
   "execution_count": 5,
   "metadata": {},
   "outputs": [
    {
     "name": "stdout",
     "output_type": "stream",
     "text": [
      "Alan\n"
     ]
    }
   ],
   "source": [
    "# Presence of element located\n",
    "\n",
    "alan = WebDriverWait(driver, 10).until( # Esperar 10 segundos\n",
    "    EC.presence_of_element_located((By.XPATH, \"/html/body/div/div[3]/div/table/tbody/tr[2]/td[text() = 'Alan']\"))\n",
    ")\n",
    "\n",
    "print(alan.text)"
   ]
  },
  {
   "cell_type": "markdown",
   "metadata": {},
   "source": [
    "### **Usando try except**"
   ]
  },
  {
   "cell_type": "code",
   "execution_count": 6,
   "metadata": {},
   "outputs": [
    {
     "name": "stdout",
     "output_type": "stream",
     "text": [
      "No se encontró el elemento\n",
      "Message: \n",
      "Stacktrace:\n",
      "#0 0x5601ec89cfe3 <unknown>\n",
      "#1 0x5601ec5dbd36 <unknown>\n",
      "#2 0x5601ec618c4d <unknown>\n",
      "#3 0x5601ec618d61 <unknown>\n",
      "#4 0x5601ec6546a4 <unknown>\n",
      "#5 0x5601ec6398ed <unknown>\n",
      "#6 0x5601ec652232 <unknown>\n",
      "#7 0x5601ec639693 <unknown>\n",
      "#8 0x5601ec60c03a <unknown>\n",
      "#9 0x5601ec60d17e <unknown>\n",
      "#10 0x5601ec85edbd <unknown>\n",
      "#11 0x5601ec862c6c <unknown>\n",
      "#12 0x5601ec86c4b0 <unknown>\n",
      "#13 0x5601ec863d63 <unknown>\n",
      "#14 0x5601ec836c35 <unknown>\n",
      "#15 0x5601ec887138 <unknown>\n",
      "#16 0x5601ec8872c7 <unknown>\n",
      "#17 0x5601ec895093 <unknown>\n",
      "#18 0x7fb7670c3609 start_thread\n",
      "\n"
     ]
    }
   ],
   "source": [
    "try:\n",
    "    # Esperar a encontrar elemento\n",
    "    alan = WebDriverWait(driver, 10).until( # Esperar 10 segundos\n",
    "        EC.presence_of_element_located((By.XPATH, \"/html/body/div/div[3]/div/table/tbody/tr[2]/td[text() = 'Bobby']\"))\n",
    "    )\n",
    "\n",
    "except TimeoutException as exc:\n",
    "    # Cuando haya exception\n",
    "    \n",
    "    print(\"No se encontró el elemento\")\n",
    "    print(exc)"
   ]
  },
  {
   "cell_type": "markdown",
   "metadata": {},
   "source": [
    "### **Esperar a que se pueda hacer click**"
   ]
  },
  {
   "cell_type": "code",
   "execution_count": 7,
   "metadata": {},
   "outputs": [],
   "source": [
    "try:\n",
    "    # Esperar a que elemento sea clickeable\n",
    "    regresar = WebDriverWait(driver, 10).until( # Esperar 10 segundos\n",
    "        EC.element_to_be_clickable((By.XPATH, \"/html/body/div/div[1]/a\"))\n",
    "    )\n",
    "    # Nos regresamos a la página principal\n",
    "    \n",
    "    regresar.click()\n",
    "    \n",
    "\n",
    "\n",
    "except TimeoutException as exc:\n",
    "    # Cuando haya exception\n",
    "    \n",
    "    print(\"No se pudo hacer click\")\n",
    "    print(exc)\n",
    "    \n",
    "driver.quit() # Cerrar driver"
   ]
  },
  {
   "cell_type": "markdown",
   "metadata": {},
   "source": [
    "## **3. Otros casos**"
   ]
  },
  {
   "cell_type": "markdown",
   "metadata": {},
   "source": [
    "Otras funciones de EC para hacer el explicit time wait"
   ]
  },
  {
   "cell_type": "markdown",
   "metadata": {},
   "source": [
    "\n",
    " - presence_of_element_located: Espera a que un elemento esté presente en el DOM de la página.\n",
    " - visibility_of_element_located: Espera a que un elemento esté presente en el DOM de la página y visible para el usuario.\n",
    " - visibility_of: Espera a que un elemento sea visible y no esté oculto por otros elementos.\n",
    " - text_to_be_present_in_element: Espera a que un elemento contenga una cadena de texto especificada.\n",
    " - invisibility_of_element_located: Espera a que un elemento no esté presente en el DOM de la página o esté oculto.\n",
    " - element_to_be_clickable: Espera a que un elemento sea visible y habilitado para hacer clic.\n",
    " - element_to_be_selected: Espera a que un elemento de formulario esté seleccionado.\n",
    " - element_located_to_be_selected: Espera a que un elemento de formulario esté presente en el DOM de la página y esté tenga un estado de selección específico.\n",
    " - alert_is_present: Espera a que aparezca una alerta y devuelve la instancia de la alerta."
   ]
  }
 ],
 "metadata": {
  "kernelspec": {
   "display_name": "Python 3 (ipykernel)",
   "language": "python",
   "name": "python3"
  },
  "language_info": {
   "codemirror_mode": {
    "name": "ipython",
    "version": 3
   },
   "file_extension": ".py",
   "mimetype": "text/x-python",
   "name": "python",
   "nbconvert_exporter": "python",
   "pygments_lexer": "ipython3",
   "version": "3.10.10"
  }
 },
 "nbformat": 4,
 "nbformat_minor": 4
}
