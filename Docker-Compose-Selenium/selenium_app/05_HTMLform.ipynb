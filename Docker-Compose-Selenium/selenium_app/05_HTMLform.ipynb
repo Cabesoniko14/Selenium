{
 "cells": [
  {
   "attachments": {},
   "cell_type": "markdown",
   "id": "bcade1e7",
   "metadata": {},
   "source": [
    "# **HTML Form**"
   ]
  },
  {
   "attachments": {},
   "cell_type": "markdown",
   "id": "5ffd72d4",
   "metadata": {},
   "source": [
    "## **1. Import de bibliotecas**"
   ]
  },
  {
   "cell_type": "code",
   "execution_count": null,
   "id": "cd81af00-8554-4c13-be45-a18023b28052",
   "metadata": {},
   "outputs": [],
   "source": [
    "from selenium import webdriver\n",
    "from selenium.webdriver.common.by import By\n",
    "from selenium.webdriver.common.keys import Keys\n",
    "from selenium.webdriver.common.action_chains import ActionChains"
   ]
  },
  {
   "attachments": {},
   "cell_type": "markdown",
   "id": "da7479bc",
   "metadata": {},
   "source": [
    "## **2. Iniciar driver (conda)**"
   ]
  },
  {
   "cell_type": "code",
   "execution_count": null,
   "id": "813738f3-eaa1-4d77-b953-fa8f257ee975",
   "metadata": {},
   "outputs": [],
   "source": [
    "# Indicar el path a nuestro Chrome Driver\n",
    "\n",
    "chromedriver_path = '/Users/javi/Downloads/chromedriver_mac_arm64'\n",
    "\n",
    "# Crear el driver\n",
    "\n",
    "driver = webdriver.Chrome(chromedriver_path)"
   ]
  },
  {
   "attachments": {},
   "cell_type": "markdown",
   "id": "0500d66d",
   "metadata": {},
   "source": [
    "## **3. Ejercicios de HTML Form**"
   ]
  },
  {
   "cell_type": "code",
   "execution_count": null,
   "id": "1ab99fcd-f26e-43d5-b66a-423698eacca5",
   "metadata": {},
   "outputs": [],
   "source": [
    "driver.get(\"https://testpages.herokuapp.com/basic_html_form.html\")\n",
    "driver.implicitly_wait(10)"
   ]
  },
  {
   "cell_type": "code",
   "execution_count": null,
   "id": "2f6f7a94-0720-4b5f-acd4-42f7bc8cc705",
   "metadata": {},
   "outputs": [],
   "source": [
    "username = driver.find_element(By.NAME, 'username')"
   ]
  },
  {
   "cell_type": "code",
   "execution_count": null,
   "id": "cd571504-9300-4da0-b68d-d1d5342d2a4f",
   "metadata": {},
   "outputs": [],
   "source": [
    "password = driver.find_element(By.NAME, 'password')"
   ]
  },
  {
   "cell_type": "code",
   "execution_count": null,
   "id": "9c0ca775-9879-4b9f-b1d3-7dbc48ef5f6c",
   "metadata": {},
   "outputs": [],
   "source": [
    "action = ActionChains(driver)"
   ]
  },
  {
   "cell_type": "code",
   "execution_count": null,
   "id": "351c933f-2ec2-429a-8847-d19f7441de59",
   "metadata": {},
   "outputs": [],
   "source": [
    "action.send_keys_to_element(username, \"danieldbgc\").send_keys_to_element(password, \"11223344\").perform()"
   ]
  },
  {
   "cell_type": "code",
   "execution_count": null,
   "id": "4c1a2f08-12e9-46d7-9651-6eab4ae3fd5d",
   "metadata": {},
   "outputs": [],
   "source": [
    "textArea = driver.find_element(By.NAME, \"comments\")"
   ]
  },
  {
   "cell_type": "code",
   "execution_count": null,
   "id": "0d72847b-8de8-4d61-b7b4-37d595d36bc9",
   "metadata": {},
   "outputs": [],
   "source": [
    "textArea.text"
   ]
  },
  {
   "cell_type": "code",
   "execution_count": null,
   "id": "24676735-a1d4-4c47-a17e-17db5a751797",
   "metadata": {},
   "outputs": [],
   "source": [
    "textArea.clear()"
   ]
  },
  {
   "cell_type": "code",
   "execution_count": null,
   "id": "f3cff85c-c149-4c04-aa40-1ac40f61b410",
   "metadata": {},
   "outputs": [],
   "source": [
    "action.send_keys_to_element(textArea, \"Un comentario\").perform()"
   ]
  },
  {
   "attachments": {},
   "cell_type": "markdown",
   "id": "0c58449f",
   "metadata": {},
   "source": [
    "Comentar para conda"
   ]
  },
  {
   "cell_type": "code",
   "execution_count": null,
   "id": "5e172a93-c860-4a8f-a5d3-ac99edbacda4",
   "metadata": {},
   "outputs": [],
   "source": [
    "# from selenium.webdriver.remote.file_detector import LocalFileDetector\n",
    "\n",
    " # driver.file_detector = LocalFileDetector()"
   ]
  },
  {
   "cell_type": "code",
   "execution_count": null,
   "id": "e1edfbd6-ff72-493f-a43c-80a42109fc3d",
   "metadata": {},
   "outputs": [],
   "source": [
    "archivo = driver.find_element(By.NAME, \"filename\")"
   ]
  },
  {
   "attachments": {},
   "cell_type": "markdown",
   "id": "89f4862f",
   "metadata": {},
   "source": [
    "Seleccionar ruta de archivo en tu máquina"
   ]
  },
  {
   "cell_type": "code",
   "execution_count": null,
   "id": "64ab097a-7960-4101-ab51-fde11cc604b3",
   "metadata": {},
   "outputs": [],
   "source": [
    "archivo.send_keys(\"/Users/javi/Desktop/Selenium/Notebooks/Ejemplo.txt\")"
   ]
  },
  {
   "cell_type": "code",
   "execution_count": null,
   "id": "a7df8eba-843b-4167-9616-93ae2cf6870e",
   "metadata": {},
   "outputs": [],
   "source": [
    "secreto = driver.find_element(By.NAME, \"hiddenField\")"
   ]
  },
  {
   "cell_type": "code",
   "execution_count": null,
   "id": "4c4afb15-5415-46fd-91b4-78c411a15e45",
   "metadata": {},
   "outputs": [],
   "source": [
    "check1 = driver.find_element(By.XPATH, '//*[@id=\"HTMLFormElements\"]/table/tbody/tr[5]/td/input[1]')"
   ]
  },
  {
   "cell_type": "code",
   "execution_count": null,
   "id": "bf642739-4282-417b-aaa0-19e8a9322166",
   "metadata": {},
   "outputs": [],
   "source": [
    "check2 = driver.find_element(By.XPATH, '/html/body/form/table/tbody/tr[5]/td/input[2]')"
   ]
  },
  {
   "cell_type": "code",
   "execution_count": null,
   "id": "782663df-e41e-4dd2-9842-1905f5739daf",
   "metadata": {},
   "outputs": [],
   "source": [
    "check3 = driver.find_element(By.XPATH, '/html/body/form/table/tbody/tr[5]/td/input[3]')"
   ]
  },
  {
   "cell_type": "code",
   "execution_count": null,
   "id": "1ef201e3-d0c2-4acd-b965-a2851ad72691",
   "metadata": {},
   "outputs": [],
   "source": [
    "check1.click()\n",
    "check2.click()\n",
    "check3.click()"
   ]
  },
  {
   "cell_type": "code",
   "execution_count": null,
   "id": "7a91e909-07d0-4cbb-be4d-ad94393db712",
   "metadata": {},
   "outputs": [],
   "source": [
    "radio = driver.find_element(By.XPATH, '//*[@id=\"HTMLFormElements\"]/table/tbody/tr[6]/td/input[1]')"
   ]
  },
  {
   "cell_type": "code",
   "execution_count": null,
   "id": "36f6baff-7264-4f53-a6ef-624d354c16ab",
   "metadata": {},
   "outputs": [],
   "source": [
    "radio.click()"
   ]
  },
  {
   "cell_type": "code",
   "execution_count": null,
   "id": "376ab8cf-7575-4f96-8157-2c19e3385c9d",
   "metadata": {},
   "outputs": [],
   "source": [
    "selectList = driver.find_element(By.XPATH,'/html/body/form/table/tbody/tr[7]/td/select/option[1]')"
   ]
  },
  {
   "cell_type": "code",
   "execution_count": null,
   "id": "9aac639d-af71-4c37-a7c8-bbd7d8323b04",
   "metadata": {},
   "outputs": [],
   "source": [
    "selectList.click()"
   ]
  },
  {
   "cell_type": "code",
   "execution_count": null,
   "id": "0d5739f1-b404-4507-9400-4c5831225ffa",
   "metadata": {},
   "outputs": [],
   "source": [
    "from selenium.webdriver.support.ui import Select\n",
    "\n",
    "select = Select(driver.find_element(By.XPATH,'/html/body/form/table/tbody/tr[8]/td/select'))"
   ]
  },
  {
   "cell_type": "code",
   "execution_count": null,
   "id": "eddd12ab-418f-4a47-8109-a21201046c03",
   "metadata": {},
   "outputs": [],
   "source": [
    "select.select_by_value('dd4')"
   ]
  },
  {
   "cell_type": "code",
   "execution_count": null,
   "id": "e3f88c9a-6ac4-4407-ba96-29cba236824c",
   "metadata": {},
   "outputs": [],
   "source": [
    "submit = driver.find_element(By.NAME ,'submitbutton')"
   ]
  },
  {
   "cell_type": "code",
   "execution_count": null,
   "id": "48055bd5-bf5d-4d41-a82a-bbac6298f742",
   "metadata": {},
   "outputs": [],
   "source": [
    "submit.submit()"
   ]
  },
  {
   "cell_type": "code",
   "execution_count": null,
   "id": "93169095-5ad6-4318-a8cc-3acbe17c612c",
   "metadata": {},
   "outputs": [],
   "source": [
    "from selenium.webdriver.support.ui import WebDriverWait\n",
    "from selenium.webdriver.support import expected_conditions as EC\n",
    "\n",
    "WebDriverWait(driver, 30).until(\n",
    "    EC.url_to_be('https://testpages.herokuapp.com/form_processor.php')\n",
    ")"
   ]
  },
  {
   "cell_type": "code",
   "execution_count": null,
   "id": "9073b546-903c-46e4-afc4-e00fec3293db",
   "metadata": {},
   "outputs": [],
   "source": [
    "print(driver.find_element(By.XPATH, 'html/body').text)"
   ]
  },
  {
   "cell_type": "code",
   "execution_count": null,
   "id": "72d7ab57-d5dd-4dc6-8bc7-f406604a97a2",
   "metadata": {},
   "outputs": [],
   "source": [
    "driver.quit()"
   ]
  }
 ],
 "metadata": {
  "kernelspec": {
   "display_name": "Python 3 (ipykernel)",
   "language": "python",
   "name": "python3"
  },
  "language_info": {
   "codemirror_mode": {
    "name": "ipython",
    "version": 3
   },
   "file_extension": ".py",
   "mimetype": "text/x-python",
   "name": "python",
   "nbconvert_exporter": "python",
   "pygments_lexer": "ipython3",
   "version": "3.9.16"
  }
 },
 "nbformat": 4,
 "nbformat_minor": 5
}
