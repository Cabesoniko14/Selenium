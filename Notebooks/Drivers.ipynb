{
 "cells": [
  {
   "attachments": {},
   "cell_type": "markdown",
   "metadata": {},
   "source": [
    "Para las personas que no van a usar docker:\n",
    "\n",
    "```py\n",
    "import os\n",
    "from selenium import webdriver\n",
    "\n",
    "os.environ['PATH'] += r\"C:/SeleniumDrivers\"\n",
    "driver = webdriver.Chrome()\n",
    "```"
   ]
  },
  {
   "cell_type": "code",
   "execution_count": null,
   "metadata": {},
   "outputs": [],
   "source": [
    "from selenium import webdriver\n",
    "\n",
    "chrome_options = webdriver.ChromeOptions()\n",
    "driver = webdriver.Remote(\n",
    "    command_executor='http://chrome:4444/wd/hub',\n",
    "    options=chrome_options\n",
    ")"
   ]
  },
  {
   "attachments": {},
   "cell_type": "markdown",
   "metadata": {},
   "source": [
    "Cada browser tiene diferentes opciones:\n",
    "\n",
    "Estrategia de carga:\n",
    "\n",
    "-Normal (default): Espera a que la página haya cargado por completo\n",
    "```py\n",
    "from selenium import webdriver\n",
    "from selenium.webdriver.chrome.options import Options\n",
    "options = Options()\n",
    "options.page_load_strategy = 'normal'\n",
    "driver = webdriver.Chrome(options=options)\n",
    "driver.quit()\n",
    "```\n",
    "\n",
    "-Eager: Espera a que lo esencial haya cargado, imagenes y procesos mas completos pueden aun no haber cargado\n",
    "```py\n",
    "from selenium import webdriver\n",
    "from selenium.webdriver.chrome.options import Options\n",
    "options = Options()\n",
    "options.page_load_strategy = 'eager'\n",
    "driver = webdriver.Chrome(options=options)\n",
    "driver.quit()\n",
    "```\n",
    "\n",
    "-None: No espera\n",
    "```py\n",
    "from selenium import webdriver\n",
    "from selenium.webdriver.chrome.options import Options\n",
    "options = Options()\n",
    "options.page_load_strategy = 'none'\n",
    "driver = webdriver.Chrome(options=options)\n",
    "driver.quit()\n",
    "```\n",
    "\n",
    "Existen mas opciones pero son poco relevantes."
   ]
  },
  {
   "attachments": {},
   "cell_type": "markdown",
   "metadata": {},
   "source": [
    "# Remote"
   ]
  },
  {
   "attachments": {},
   "cell_type": "markdown",
   "metadata": {},
   "source": [
    "```py\n",
    "from selenium import webdriver\n",
    "\n",
    "firefox_options = webdriver.FirefoxOptions()\n",
    "driver = webdriver.Remote(\n",
    "    command_executor='http://www.example.com',\n",
    "    options=firefox_options\n",
    ")\n",
    "driver.get(\"http://www.google.com\")\n",
    "driver.quit() \n",
    "```"
   ]
  },
  {
   "cell_type": "code",
   "execution_count": null,
   "metadata": {},
   "outputs": [],
   "source": [
    "from selenium.webdriver.remote.file_detector import LocalFileDetector\n",
    "\n",
    "driver.file_detector = LocalFileDetector()"
   ]
  },
  {
   "cell_type": "code",
   "execution_count": null,
   "metadata": {},
   "outputs": [],
   "source": [
    "driver.get(\"http://sso.dev.saucelabs.com/test/guinea-file-upload\")\n",
    "\n",
    "driver.find_element(By.ID, \"myfile\").send_keys(\"/Users/sso/the/local/path/to/darkbulb.jpg\")"
   ]
  },
  {
   "attachments": {},
   "cell_type": "markdown",
   "metadata": {},
   "source": [
    "```py\n",
    "options = ChromeOptions()\n",
    "options.add_argument(\"--headless=new\")\n",
    "driver = webdriver.Chrome(options=options)\n",
    "driver.get('http://selenium.dev')\n",
    "driver.quit()\n",
    "```"
   ]
  },
  {
   "cell_type": "code",
   "execution_count": null,
   "metadata": {},
   "outputs": [],
   "source": [
    "driver.quit()"
   ]
  }
 ],
 "metadata": {
  "language_info": {
   "name": "python"
  },
  "orig_nbformat": 4
 },
 "nbformat": 4,
 "nbformat_minor": 2
}
