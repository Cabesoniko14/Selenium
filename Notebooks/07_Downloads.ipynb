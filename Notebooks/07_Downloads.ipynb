{
 "cells": [
  {
   "attachments": {},
   "cell_type": "markdown",
   "metadata": {},
   "source": [
    "# **Downloads**"
   ]
  },
  {
   "attachments": {},
   "cell_type": "markdown",
   "metadata": {},
   "source": [
    "## **Import de librerías**"
   ]
  },
  {
   "cell_type": "code",
   "execution_count": null,
   "metadata": {},
   "outputs": [],
   "source": [
    "from selenium import webdriver\n",
    "from selenium.common.exceptions import NoSuchElementException, TimeoutException\n",
    "from selenium.webdriver.support.ui import WebDriverWait\n",
    "from selenium.webdriver.support import expected_conditions as EC\n",
    "from selenium.webdriver.common.by import By\n",
    "import time\n",
    "import requests"
   ]
  },
  {
   "attachments": {},
   "cell_type": "markdown",
   "metadata": {},
   "source": [
    "## **2. Seleccionar ruta de descarga**"
   ]
  },
  {
   "cell_type": "code",
   "execution_count": null,
   "metadata": {},
   "outputs": [],
   "source": [
    "download_dir = \"/Users/javi/Desktop/Selenium/imgs\" # la ruta donde quieres que se descargue\n",
    "options = webdriver.ChromeOptions() # iniciar opciones\n",
    "prefs = {\"download.default_directory\": download_dir} # incluir directorio\n",
    "options.add_experimental_option(\"prefs\", prefs) # agregar las preferencias construidas\n",
    "\n"
   ]
  },
  {
   "attachments": {},
   "cell_type": "markdown",
   "metadata": {},
   "source": [
    "## **3. Poner la ruta del chrome driver e iniciar**"
   ]
  },
  {
   "cell_type": "code",
   "execution_count": null,
   "metadata": {},
   "outputs": [],
   "source": [
    "# Ruta de chromedriver\n",
    "chromedriver_path = '/Users/javi/Downloads/chromedriver_mac_arm64'\n",
    "\n",
    "# Incluir ruta de descarga y del chrome driver\n",
    "driver = webdriver.Chrome(chromedriver_path, options=options)"
   ]
  },
  {
   "attachments": {},
   "cell_type": "markdown",
   "metadata": {},
   "source": [
    "## **4. Descargas**"
   ]
  },
  {
   "attachments": {},
   "cell_type": "markdown",
   "metadata": {},
   "source": [
    "Primera forma de descarga"
   ]
  },
  {
   "cell_type": "code",
   "execution_count": null,
   "metadata": {},
   "outputs": [],
   "source": [
    "# Notebook anterior\n",
    "\n",
    "paginas = [\"https://es.wikipedia.org/wiki/Sam_Kerr\",\"https://es.wikipedia.org/wiki/Lionel_Messi\",\"https://es.wikipedia.org/wiki/Damian_Lillard\"]\n",
    "\n",
    "urls = []\n",
    "nombres = []\n",
    "\n",
    "for page in paginas:\n",
    "    driver.refresh() # Eliminar link\n",
    "    driver.get(page) # Abrir el link\n",
    "    \n",
    "    try:\n",
    "        \n",
    "        cabecera = WebDriverWait(driver, 10).until( # Esperar 10 segundos\n",
    "            EC.presence_of_element_located((By.XPATH, \"//*[@class='cabecera persona']\"))\n",
    "        )\n",
    "        \n",
    "        time.sleep(2) # Para que sea visual el ejemplo\n",
    "        nombres.append(cabecera.text)\n",
    "                       \n",
    "        image = WebDriverWait(driver, 10).until(\n",
    "            EC.presence_of_element_located((By.XPATH, \"//*[@class='infobox']//*[@class='image']\"))\n",
    "        )\n",
    "        \n",
    "        urls.append(image.get_attribute(\"href\"))\n",
    "        print(\"Se encontró exitosamente.\")\n",
    "        \n",
    "    except NoSuchElementException:\n",
    "        print(\"No se encontró el elemento.\")\n",
    "        urls.append(None)\n",
    "    except TimeoutException:\n",
    "        print(\"Tiempo de espera excedido.\")\n",
    "        urls.append(None)\n",
    "    \n",
    "\n",
    "# Forma 1 de descarga\n",
    "\n",
    "for i in range(3):\n",
    "    response = requests.get(urls[i])\n",
    "    with open(\"..img/\" + nombres[i] + \".png\", \"wb\") as f:\n",
    "        f.write(response.content)\n",
    "        \n",
    "driver.quit()"
   ]
  },
  {
   "attachments": {},
   "cell_type": "markdown",
   "metadata": {},
   "source": [
    "Segunda forma de descarga"
   ]
  },
  {
   "cell_type": "code",
   "execution_count": null,
   "metadata": {},
   "outputs": [],
   "source": [
    "driver.get(\"https://testpages.herokuapp.com/styled/download/download.html\")\n",
    "\n",
    "try:\n",
    "        \n",
    "    download_button = WebDriverWait(driver, 10).until( # Esperar 10 segundos\n",
    "        EC.presence_of_element_located((By.XPATH, \"//*[@id='direct-download']\"))\n",
    "    )\n",
    "    download_button.click()\n",
    "        \n",
    "except NoSuchElementException:\n",
    "    print(\"\")"
   ]
  },
  {
   "cell_type": "code",
   "execution_count": null,
   "metadata": {},
   "outputs": [],
   "source": [
    "# Cerrar driver\n",
    "\n",
    "driver.quit()"
   ]
  }
 ],
 "metadata": {
  "kernelspec": {
   "display_name": "selenium",
   "language": "python",
   "name": "python3"
  },
  "language_info": {
   "codemirror_mode": {
    "name": "ipython",
    "version": 3
   },
   "file_extension": ".py",
   "mimetype": "text/x-python",
   "name": "python",
   "nbconvert_exporter": "python",
   "pygments_lexer": "ipython3",
   "version": "3.9.16"
  },
  "orig_nbformat": 4
 },
 "nbformat": 4,
 "nbformat_minor": 2
}
