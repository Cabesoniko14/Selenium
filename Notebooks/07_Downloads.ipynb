{
 "cells": [
  {
   "attachments": {},
   "cell_type": "markdown",
   "metadata": {},
   "source": [
    "# **Downloads**"
   ]
  },
  {
   "attachments": {},
   "cell_type": "markdown",
   "metadata": {},
   "source": [
    "## **Import de librerías**"
   ]
  },
  {
   "cell_type": "code",
   "execution_count": 1,
   "metadata": {},
   "outputs": [],
   "source": [
    "from selenium import webdriver\n",
    "from selenium.common.exceptions import NoSuchElementException, TimeoutException\n",
    "from selenium.webdriver.support.ui import WebDriverWait\n",
    "from selenium.webdriver.support import expected_conditions as EC\n",
    "from selenium.webdriver.common.by import By\n",
    "import time\n",
    "import requests"
   ]
  },
  {
   "attachments": {},
   "cell_type": "markdown",
   "metadata": {},
   "source": [
    "## **2. Seleccionar ruta de descarga**"
   ]
  },
  {
   "cell_type": "code",
   "execution_count": 2,
   "metadata": {},
   "outputs": [],
   "source": [
    "download_dir = \"../imgs\" # la ruta donde quieres que se descargue\n",
    "options = webdriver.ChromeOptions() # iniciar opciones\n",
    "prefs = {\"download.default_directory\": download_dir} # incluir directorio\n",
    "options.add_experimental_option(\"prefs\", prefs) # agregar las preferencias construidas\n",
    "\n"
   ]
  },
  {
   "attachments": {},
   "cell_type": "markdown",
   "metadata": {},
   "source": [
    "## **3. Poner la ruta del chrome driver e iniciar**"
   ]
  },
  {
   "cell_type": "code",
   "execution_count": 9,
   "metadata": {},
   "outputs": [
    {
     "name": "stderr",
     "output_type": "stream",
     "text": [
      "/var/folders/t_/fh0l2j4n2rz0fskmrkd8ltvm0000gn/T/ipykernel_34519/4067768772.py:5: DeprecationWarning: executable_path has been deprecated, please pass in a Service object\n",
      "  driver = webdriver.Chrome(chromedriver_path, options=options)\n"
     ]
    }
   ],
   "source": [
    "# Ruta de chromedriver\n",
    "chromedriver_path = '/Users/javi/Downloads/chromedriver_mac_arm64'\n",
    "\n",
    "# Incluir ruta de descarga y del chrome driver\n",
    "driver = webdriver.Chrome(chromedriver_path, options=options)"
   ]
  },
  {
   "attachments": {},
   "cell_type": "markdown",
   "metadata": {},
   "source": [
    "## **4. Descargas**"
   ]
  },
  {
   "cell_type": "code",
   "execution_count": 10,
   "metadata": {},
   "outputs": [
    {
     "name": "stdout",
     "output_type": "stream",
     "text": [
      "Tiempo de espera excedido.\n",
      "Se encontró exitosamente.\n",
      "Se encontró exitosamente.\n",
      "Tiempo de espera excedido.\n",
      "Se encontró exitosamente.\n",
      "Tiempo de espera excedido.\n",
      "Tiempo de espera excedido.\n",
      "Tiempo de espera excedido.\n"
     ]
    },
    {
     "ename": "NameError",
     "evalue": "name 'nombres_2' is not defined",
     "output_type": "error",
     "traceback": [
      "\u001b[0;31m---------------------------------------------------------------------------\u001b[0m",
      "\u001b[0;31mNameError\u001b[0m                                 Traceback (most recent call last)",
      "Cell \u001b[0;32mIn[10], line 31\u001b[0m\n\u001b[1;32m     28\u001b[0m     \u001b[39mif\u001b[39;00m i \u001b[39mis\u001b[39;00m \u001b[39mNone\u001b[39;00m:\n\u001b[1;32m     29\u001b[0m         count \u001b[39m+\u001b[39m\u001b[39m=\u001b[39m \u001b[39m1\u001b[39m\n\u001b[0;32m---> 31\u001b[0m \u001b[39mprint\u001b[39m(\u001b[39m\"\u001b[39m\u001b[39m\\n\u001b[39;00m\u001b[39mSe encontraron \u001b[39m\u001b[39m\"\u001b[39m \u001b[39m+\u001b[39m \u001b[39mstr\u001b[39m(\u001b[39mlen\u001b[39m(nombres) \u001b[39m-\u001b[39m count)\u001b[39m+\u001b[39m \u001b[39m\"\u001b[39m\u001b[39m cabeceras de un total de \u001b[39m\u001b[39m\"\u001b[39m \u001b[39m+\u001b[39m \u001b[39mstr\u001b[39m(\u001b[39mlen\u001b[39m(nombres_2)) \u001b[39m+\u001b[39m \u001b[39m\"\u001b[39m\u001b[39m páginas.\u001b[39m\u001b[39m\"\u001b[39m)\n",
      "\u001b[0;31mNameError\u001b[0m: name 'nombres_2' is not defined"
     ]
    }
   ],
   "source": [
    "# Notebook anterior\n",
    "\n",
    "paginas = [\"https://es.wikipedia.org/wiki/Sam_Kerr\",\"https://es.wikipedia.org/wiki/Lionel_Messi\",\"https://es.wikipedia.org/wiki/Damian_Lillard\"]\n",
    "\n",
    "urls = []\n",
    "\n",
    "for page in paginas:\n",
    "    driver.refresh() # Eliminar link\n",
    "    driver.get(page) # Abrir el link\n",
    "    \n",
    "    try:\n",
    "        image = WebDriverWait(driver, 10).until(\n",
    "            EC.presence_of_element_located((By.XPATH, \"//*[@class='infobox']//*[@class='image']\"))\n",
    "        )\n",
    "        \n",
    "        urls.append(image.get_attribute(\"href\"))\n",
    "        print(\"Se encontró exitosamente.\")\n",
    "        \n",
    "    except NoSuchElementException:\n",
    "        print(\"No se encontró el elemento.\")\n",
    "        urls.append(None)\n",
    "    except TimeoutException:\n",
    "        print(\"Tiempo de espera excedido.\")\n",
    "        urls.append(None)\n",
    "    \n",
    "\n",
    "for url in urls:\n",
    "    response = requests.get(url)\n",
    "    with open(\"image.png\", \"wb\") as f:\n",
    "        f.write(response.content)\n",
    "        \n",
    "driver.quit()"
   ]
  }
 ],
 "metadata": {
  "kernelspec": {
   "display_name": "selenium",
   "language": "python",
   "name": "python3"
  },
  "language_info": {
   "codemirror_mode": {
    "name": "ipython",
    "version": 3
   },
   "file_extension": ".py",
   "mimetype": "text/x-python",
   "name": "python",
   "nbconvert_exporter": "python",
   "pygments_lexer": "ipython3",
   "version": "3.9.16"
  },
  "orig_nbformat": 4
 },
 "nbformat": 4,
 "nbformat_minor": 2
}
