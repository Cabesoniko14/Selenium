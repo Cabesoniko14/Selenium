{
 "cells": [
  {
   "attachments": {},
   "cell_type": "markdown",
   "metadata": {},
   "source": [
    "# **Explicit Time Wait**"
   ]
  },
  {
   "attachments": {},
   "cell_type": "markdown",
   "metadata": {},
   "source": [
    "## **1. Import de librerías**"
   ]
  },
  {
   "cell_type": "code",
   "execution_count": 9,
   "metadata": {},
   "outputs": [],
   "source": [
    "from selenium import webdriver\n",
    "from selenium.webdriver.common.by import By\n",
    "from selenium.webdriver.support.ui import WebDriverWait\n",
    "from selenium.webdriver.support import expected_conditions as EC\n",
    "from selenium.common.exceptions import TimeoutException"
   ]
  },
  {
   "attachments": {},
   "cell_type": "markdown",
   "metadata": {},
   "source": [
    "## **2. Varias instrucciones de Explicit Time Wait**"
   ]
  },
  {
   "cell_type": "code",
   "execution_count": 2,
   "metadata": {},
   "outputs": [
    {
     "name": "stderr",
     "output_type": "stream",
     "text": [
      "/var/folders/t_/fh0l2j4n2rz0fskmrkd8ltvm0000gn/T/ipykernel_32818/2153548223.py:7: DeprecationWarning: executable_path has been deprecated, please pass in a Service object\n",
      "  driver = webdriver.Chrome(chromedriver_path)\n"
     ]
    }
   ],
   "source": [
    "# Indicar el path a nuestro Chrome Driver\n",
    "\n",
    "chromedriver_path = '/Users/javi/Downloads/chromedriver_mac_arm64'\n",
    "\n",
    "# Crear el driver\n",
    "\n",
    "driver = webdriver.Chrome(chromedriver_path)"
   ]
  },
  {
   "cell_type": "code",
   "execution_count": 3,
   "metadata": {},
   "outputs": [],
   "source": [
    "# Abrimos la página\n",
    "\n",
    "driver.get(\"https://testpages.herokuapp.com/styled/index.html\")"
   ]
  },
  {
   "attachments": {},
   "cell_type": "markdown",
   "metadata": {},
   "source": [
    "### **Esperar a que un elemento sea encontrado**"
   ]
  },
  {
   "cell_type": "code",
   "execution_count": 6,
   "metadata": {},
   "outputs": [],
   "source": [
    "# Ir a la página de la tabla de\n",
    "\n",
    "nueva_pag = driver.find_element(By.XPATH, \"//*[@id='tablestest']\") # Usando XPATH relativo\n",
    "\n",
    "nueva_pag.click()"
   ]
  },
  {
   "cell_type": "code",
   "execution_count": 8,
   "metadata": {},
   "outputs": [
    {
     "name": "stdout",
     "output_type": "stream",
     "text": [
      "Alan\n"
     ]
    }
   ],
   "source": [
    "# Presence of element located\n",
    "\n",
    "alan = WebDriverWait(driver, 10).until( # Esperar 10 segundos\n",
    "    EC.presence_of_element_located((By.XPATH, \"/html/body/div/div[3]/div/table/tbody/tr[2]/td[text() = 'Alan']\"))\n",
    ")\n",
    "\n",
    "print(alan.text)"
   ]
  },
  {
   "attachments": {},
   "cell_type": "markdown",
   "metadata": {},
   "source": [
    "### **Usando try except**"
   ]
  },
  {
   "cell_type": "code",
   "execution_count": 10,
   "metadata": {},
   "outputs": [
    {
     "name": "stdout",
     "output_type": "stream",
     "text": [
      "No se encontró el elemento\n",
      "Message: \n",
      "Stacktrace:\n",
      "0   chromedriver                        0x0000000104c678ac chromedriver + 4257964\n",
      "1   chromedriver                        0x0000000104c5ff40 chromedriver + 4226880\n",
      "2   chromedriver                        0x000000010489c9d4 chromedriver + 281044\n",
      "3   chromedriver                        0x00000001048d7a34 chromedriver + 522804\n",
      "4   chromedriver                        0x000000010490e7e4 chromedriver + 747492\n",
      "5   chromedriver                        0x00000001048cb98c chromedriver + 473484\n",
      "6   chromedriver                        0x00000001048cc98c chromedriver + 477580\n",
      "7   chromedriver                        0x0000000104c26900 chromedriver + 3991808\n",
      "8   chromedriver                        0x0000000104c2a354 chromedriver + 4006740\n",
      "9   chromedriver                        0x0000000104c2a940 chromedriver + 4008256\n",
      "10  chromedriver                        0x0000000104c3033c chromedriver + 4031292\n",
      "11  chromedriver                        0x0000000104c2af34 chromedriver + 4009780\n",
      "12  chromedriver                        0x0000000104c03490 chromedriver + 3847312\n",
      "13  chromedriver                        0x0000000104c489f4 chromedriver + 4131316\n",
      "14  chromedriver                        0x0000000104c48b4c chromedriver + 4131660\n",
      "15  chromedriver                        0x0000000104c59230 chromedriver + 4198960\n",
      "16  libsystem_pthread.dylib             0x000000018f955240 _pthread_start + 148\n",
      "17  libsystem_pthread.dylib             0x000000018f950024 thread_start + 8\n",
      "\n"
     ]
    }
   ],
   "source": [
    "try:\n",
    "    # Esperar a encontrar elemento\n",
    "    alan = WebDriverWait(driver, 10).until( # Esperar 10 segundos\n",
    "        EC.presence_of_element_located((By.XPATH, \"/html/body/div/div[3]/div/table/tbody/tr[2]/td[text() = 'Bobby']\"))\n",
    "    )\n",
    "\n",
    "except TimeoutException as exc:\n",
    "    # Cuando haya exception\n",
    "    \n",
    "    print(\"No se encontró el elemento\")\n",
    "    print(exc)"
   ]
  },
  {
   "attachments": {},
   "cell_type": "markdown",
   "metadata": {},
   "source": [
    "### **Esperar a que se pueda hacer click**"
   ]
  },
  {
   "cell_type": "code",
   "execution_count": 12,
   "metadata": {},
   "outputs": [],
   "source": [
    "try:\n",
    "    # Esperar a que elemento sea clickeable\n",
    "    regresar = WebDriverWait(driver, 10).until( # Esperar 10 segundos\n",
    "        EC.element_to_be_clickable((By.XPATH, \"/html/body/div/div[1]/a\"))\n",
    "    )\n",
    "    # Nos regresamos a la página principal\n",
    "    \n",
    "    regresar.click()\n",
    "    \n",
    "\n",
    "\n",
    "except TimeoutException as exc:\n",
    "    # Cuando haya exception\n",
    "    \n",
    "    print(\"No se pudo hacer click\")\n",
    "    print(exc)"
   ]
  },
  {
   "attachments": {},
   "cell_type": "markdown",
   "metadata": {},
   "source": [
    "## **3. Otros casos**"
   ]
  },
  {
   "attachments": {},
   "cell_type": "markdown",
   "metadata": {},
   "source": [
    "Otras funciones de EC para hacer el explicit time wait"
   ]
  },
  {
   "attachments": {},
   "cell_type": "markdown",
   "metadata": {},
   "source": [
    "\n",
    " - presence_of_element_located: Espera a que un elemento esté presente en el DOM de la página.\n",
    " - visibility_of_element_located: Espera a que un elemento esté presente en el DOM de la página y visible para el usuario.\n",
    " - visibility_of: Espera a que un elemento sea visible y no esté oculto por otros elementos.\n",
    " - text_to_be_present_in_element: Espera a que un elemento contenga una cadena de texto especificada.\n",
    " - invisibility_of_element_located: Espera a que un elemento no esté presente en el DOM de la página o esté oculto.\n",
    " - element_to_be_clickable: Espera a que un elemento sea visible y habilitado para hacer clic.\n",
    " - element_to_be_selected: Espera a que un elemento de formulario esté seleccionado.\n",
    " - element_located_to_be_selected: Espera a que un elemento de formulario esté presente en el DOM de la página y esté tenga un estado de selección específico.\n",
    " - alert_is_present: Espera a que aparezca una alerta y devuelve la instancia de la alerta."
   ]
  }
 ],
 "metadata": {
  "kernelspec": {
   "display_name": "selenium",
   "language": "python",
   "name": "python3"
  },
  "language_info": {
   "codemirror_mode": {
    "name": "ipython",
    "version": 3
   },
   "file_extension": ".py",
   "mimetype": "text/x-python",
   "name": "python",
   "nbconvert_exporter": "python",
   "pygments_lexer": "ipython3",
   "version": "3.9.16"
  },
  "orig_nbformat": 4
 },
 "nbformat": 4,
 "nbformat_minor": 2
}
