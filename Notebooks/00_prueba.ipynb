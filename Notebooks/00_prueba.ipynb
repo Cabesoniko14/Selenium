{
 "cells": [
  {
   "attachments": {},
   "cell_type": "markdown",
   "metadata": {},
   "source": [
    "# **Prueba**"
   ]
  },
  {
   "cell_type": "code",
   "execution_count": 3,
   "metadata": {},
   "outputs": [
    {
     "name": "stderr",
     "output_type": "stream",
     "text": [
      "/var/folders/t_/fh0l2j4n2rz0fskmrkd8ltvm0000gn/T/ipykernel_23135/3144828655.py:10: DeprecationWarning: executable_path has been deprecated, please pass in a Service object\n",
      "  driver = webdriver.Chrome(chromedriver_path)\n"
     ]
    }
   ],
   "source": [
    "from selenium import webdriver\n",
    "from selenium.webdriver.common.by import By\n",
    "import time\n",
    "\n",
    "\n",
    "# Set the path to the chromedriver executable\n",
    "chromedriver_path = '/path/to/chromedriver'\n",
    "\n",
    "# Create a Chrome webdriver instance\n",
    "driver = webdriver.Chrome(chromedriver_path)\n",
    "\n",
    "driver.get(\"https://es.wikipedia.org/wiki/Bob_Ross\")\n",
    " \n",
    "# get element\n",
    "element = driver.find_element(By.XPATH, \"//*[@id='toc']/ul/li[1]/a\")\n",
    "\n",
    "time.sleep(5)\n",
    "\n",
    "element.click()\n",
    "\n",
    "time.sleep(5)\n",
    "\n",
    "driver.quit()\n"
   ]
  }
 ],
 "metadata": {
  "kernelspec": {
   "display_name": "selenium-chrome-2",
   "language": "python",
   "name": "python3"
  },
  "language_info": {
   "codemirror_mode": {
    "name": "ipython",
    "version": 3
   },
   "file_extension": ".py",
   "mimetype": "text/x-python",
   "name": "python",
   "nbconvert_exporter": "python",
   "pygments_lexer": "ipython3",
   "version": "3.9.16"
  },
  "orig_nbformat": 4
 },
 "nbformat": 4,
 "nbformat_minor": 2
}
